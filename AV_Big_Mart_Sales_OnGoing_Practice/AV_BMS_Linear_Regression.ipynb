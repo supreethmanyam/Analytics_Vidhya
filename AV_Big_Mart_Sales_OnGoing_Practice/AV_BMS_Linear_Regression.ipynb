{
 "cells": [
  {
   "cell_type": "code",
   "execution_count": 1,
   "metadata": {
    "collapsed": false
   },
   "outputs": [
    {
     "name": "stderr",
     "output_type": "stream",
     "text": [
      "/usr/lib/python2.7/site-packages/IPython/html.py:14: ShimWarning: The `IPython.html` package has been deprecated. You should import from `notebook` instead. `IPython.html.widgets` has moved to `ipywidgets`.\n",
      "  \"`IPython.html.widgets` has moved to `ipywidgets`.\", ShimWarning)\n"
     ]
    }
   ],
   "source": [
    "import pandas as pd\n",
    "import numpy as np\n",
    "from sklearn import preprocessing\n",
    "\n",
    "%matplotlib inline\n",
    "import matplotlib.pyplot as plt\n",
    "import seaborn as sns\n",
    "\n",
    "import statsmodels.api as sm\n",
    "from statsmodels.stats.outliers_influence import variance_inflation_factor\n",
    "from sklearn.linear_model import LinearRegression, Ridge, Lasso, ElasticNet\n",
    "from sklearn.cross_validation import cross_val_predict, KFold, StratifiedKFold, train_test_split\n",
    "from sklearn.metrics import mean_squared_error"
   ]
  },
  {
   "cell_type": "code",
   "execution_count": 2,
   "metadata": {
    "collapsed": true
   },
   "outputs": [],
   "source": [
    "train = pd.read_csv('../input/train_processed.csv')\n",
    "test = pd.read_csv('../input/test_processed.csv')"
   ]
  },
  {
   "cell_type": "code",
   "execution_count": 3,
   "metadata": {
    "collapsed": true
   },
   "outputs": [],
   "source": [
    "target = train['Item_Outlet_Sales']\n",
    "train = train.drop('Item_Outlet_Sales', axis=1)"
   ]
  },
  {
   "cell_type": "markdown",
   "metadata": {},
   "source": [
    "Label encoding data"
   ]
  },
  {
   "cell_type": "code",
   "execution_count": 4,
   "metadata": {
    "collapsed": false
   },
   "outputs": [
    {
     "name": "stdout",
     "output_type": "stream",
     "text": [
      "Item_Fat_Content\n",
      "Outlet_Identifier\n",
      "Outlet_Size\n",
      "Outlet_Location_Type\n",
      "Outlet_Type\n",
      "MRP_Level\n",
      "Item_Type_Combined\n",
      "Item_Outlet_Category\n"
     ]
    }
   ],
   "source": [
    "for f in train.columns.values:\n",
    "    if train[f].dtype == 'object':\n",
    "        print f\n",
    "        lbl = preprocessing.LabelEncoder()\n",
    "        lbl.fit(list(train[f].values) + list(test[f].values))\n",
    "        train[f] = lbl.transform(list(train[f].values))\n",
    "        test[f] = lbl.transform(list(test[f].values))"
   ]
  },
  {
   "cell_type": "code",
   "execution_count": 5,
   "metadata": {
    "collapsed": false
   },
   "outputs": [
    {
     "data": {
      "text/plain": [
       "5    935\n",
       "1    932\n",
       "6    930\n",
       "9    930\n",
       "8    930\n",
       "7    929\n",
       "3    928\n",
       "2    926\n",
       "0    555\n",
       "4    528\n",
       "Name: Outlet_Identifier, dtype: int64"
      ]
     },
     "execution_count": 5,
     "metadata": {},
     "output_type": "execute_result"
    }
   ],
   "source": [
    "train.Outlet_Identifier.value_counts()"
   ]
  },
  {
   "cell_type": "code",
   "execution_count": 6,
   "metadata": {
    "collapsed": false
   },
   "outputs": [
    {
     "data": {
      "text/plain": [
       "5    624\n",
       "1    621\n",
       "6    620\n",
       "9    620\n",
       "8    620\n",
       "7    619\n",
       "3    618\n",
       "2    617\n",
       "0    370\n",
       "4    352\n",
       "Name: Outlet_Identifier, dtype: int64"
      ]
     },
     "execution_count": 6,
     "metadata": {},
     "output_type": "execute_result"
    }
   ],
   "source": [
    "test.Outlet_Identifier.value_counts()"
   ]
  },
  {
   "cell_type": "markdown",
   "metadata": {},
   "source": [
    "Based on above two distributions of Outlet_Identifier, train and test datasets are split by Outlet_Identifier. As validation should always correspond to the test dataset. Splitting train by Outlet_Identifier for validation."
   ]
  },
  {
   "cell_type": "code",
   "execution_count": 7,
   "metadata": {
    "collapsed": false
   },
   "outputs": [
    {
     "data": {
      "text/plain": [
       "count    14204.000000\n",
       "mean       141.004977\n",
       "std         62.086938\n",
       "min         31.290000\n",
       "25%         94.012000\n",
       "50%        142.247000\n",
       "75%        185.855600\n",
       "max        266.888400\n",
       "Name: Item_MRP, dtype: float64"
      ]
     },
     "execution_count": 7,
     "metadata": {},
     "output_type": "execute_result"
    }
   ],
   "source": [
    "(pd.concat([train['Item_MRP'], test['Item_MRP']], ignore_index=True)).describe()"
   ]
  },
  {
   "cell_type": "markdown",
   "metadata": {},
   "source": [
    "Splitting MRP_Level as distinguishable ordered levels"
   ]
  },
  {
   "cell_type": "code",
   "execution_count": 8,
   "metadata": {
    "collapsed": false
   },
   "outputs": [],
   "source": [
    "train['MRP_Level'] = train['MRP_Level'].astype(str).replace({'0':'30', '1':'90', '2':'140', '3':'180'}).astype(int)\n",
    "test['MRP_Level'] = test['MRP_Level'].astype(str).replace({'0':'30', '1':'90', '2':'140', '3':'180'}).astype(int)"
   ]
  },
  {
   "cell_type": "code",
   "execution_count": 9,
   "metadata": {
    "collapsed": false
   },
   "outputs": [],
   "source": [
    "def cv(regr, train, target, val_size, random_seed_list):\n",
    "    cv_score = np.zeros((1, len(random_seed_list)))\n",
    "    for i in range(len(random_seed_list)):\n",
    "        build, val, y_build, y_val = train_test_split(train, target, test_size=val_size, stratify=train['Outlet_Identifier'], random_state=random_seed_list[i])\n",
    "        cols_for_dummies = ['Item_Fat_Content', 'Outlet_Identifier', 'Outlet_Size', 'Outlet_Location_Type',\n",
    "                    'Outlet_Type', 'Item_Type_Combined', 'Item_Outlet_Category']\n",
    "        build = pd.get_dummies(build, columns=cols_for_dummies)\n",
    "        val = pd.get_dummies(val, columns=cols_for_dummies)\n",
    "        cols_to_drop = ['Item_Fat_Content_2', 'Outlet_Identifier_9', 'Outlet_Size_2', 'Outlet_Location_Type_2',\n",
    "                'Outlet_Type_3', 'Item_Type_Combined_2', 'Item_Outlet_Category_11']\n",
    "        build = build.drop(cols_to_drop, axis=1)\n",
    "        val = val.drop(cols_to_drop, axis=1)\n",
    "        lm = LinearRegression(normalize=True)\n",
    "        lm.fit(build, y_build)\n",
    "        build_rmse = mean_squared_error(y_build*build['Item_MRP'], lm.predict(build)*build['Item_MRP'])**0.5\n",
    "        val_rmse = mean_squared_error(y_val*val['Item_MRP'], lm.predict(val)*val['Item_MRP'])**0.5\n",
    "        # print 'Build RMSE: {0} Val RMSE: {1} for iteration {2}.'.format(build_rmse, val_rmse, i+1)\n",
    "        cv_score[0, i] = val_rmse\n",
    "    # print \"CV Score {:.5f}\".format(np.mean(cv_score[0]))\n",
    "    return np.mean(cv_score[0])"
   ]
  },
  {
   "cell_type": "code",
   "execution_count": 10,
   "metadata": {
    "collapsed": false
   },
   "outputs": [
    {
     "data": {
      "text/plain": [
       "1067.7690208650583"
      ]
     },
     "execution_count": 10,
     "metadata": {},
     "output_type": "execute_result"
    }
   ],
   "source": [
    "random_seed_list = [0,1268,845925,98,65465433,547812,9999999,8489465,25168,7415]\n",
    "cv(LinearRegression(normalize=True), train, target, val_size=0.2, random_seed_list=random_seed_list)\n",
    "# cv(Ridge(alpha=0.05,normalize=True), train, target, val_size=0.2, random_seed_list=random_seed_list)"
   ]
  },
  {
   "cell_type": "code",
   "execution_count": 11,
   "metadata": {
    "collapsed": false
   },
   "outputs": [
    {
     "data": {
      "image/png": "[encoded data removed]",
      "text/plain": [
       "<matplotlib.figure.Figure at 0x7f5326468690>"
      ]
     },
     "metadata": {},
     "output_type": "display_data"
    }
   ],
   "source": [
    "random_seed_list = [0,1268,845925,98,65465433,547812,9999999,8489465,25168,7415]\n",
    "Al = np.linspace(0.01, 0.1, num=10)\n",
    "res = []\n",
    "for a in Al:\n",
    "    # print a\n",
    "    res.append(cv(Lasso(alpha=a,normalize=True), train, target, val_size=0.2, random_seed_list=random_seed_list))\n",
    "plt.semilogx(Al, res,'-o');"
   ]
  },
  {
   "cell_type": "markdown",
   "metadata": {},
   "source": [
    "Lasso is not helping"
   ]
  },
  {
   "cell_type": "code",
   "execution_count": 12,
   "metadata": {
    "collapsed": true
   },
   "outputs": [],
   "source": [
    "cols_for_dummies = ['Item_Fat_Content', 'Outlet_Identifier', 'Outlet_Size', 'Outlet_Location_Type',\n",
    "                    'Outlet_Type', 'Item_Type_Combined', 'Item_Outlet_Category']\n",
    "train_dummy = pd.get_dummies(train, columns=cols_for_dummies)\n",
    "test_dummy = pd.get_dummies(test, columns=cols_for_dummies)\n",
    "cols_to_drop = ['Item_Fat_Content_2', 'Outlet_Identifier_9', 'Outlet_Size_2', 'Outlet_Location_Type_2',\n",
    "        'Outlet_Type_3', 'Item_Type_Combined_2', 'Item_Outlet_Category_11']\n",
    "train_dummy = train_dummy.drop(cols_to_drop, axis=1)\n",
    "test_dummy = test_dummy.drop(cols_to_drop, axis=1)"
   ]
  },
  {
   "cell_type": "code",
   "execution_count": 13,
   "metadata": {
    "collapsed": false
   },
   "outputs": [
    {
     "data": {
      "text/plain": [
       "LinearRegression(copy_X=True, fit_intercept=True, n_jobs=1, normalize=True)"
      ]
     },
     "execution_count": 13,
     "metadata": {},
     "output_type": "execute_result"
    }
   ],
   "source": [
    "lm = LinearRegression(normalize=True)\n",
    "lm.fit(train_dummy, target)"
   ]
  },
  {
   "cell_type": "code",
   "execution_count": 14,
   "metadata": {
    "collapsed": false
   },
   "outputs": [
    {
     "data": {
      "image/png": "[encoded data removed]",
      "text/plain": [
       "<matplotlib.figure.Figure at 0x7f5326517550>"
      ]
     },
     "metadata": {},
     "output_type": "display_data"
    }
   ],
   "source": [
    "predicted = cross_val_predict(lm, train_dummy, target, cv=10)\n",
    "\n",
    "fig, ax = plt.subplots()\n",
    "ax.scatter(target, predicted)\n",
    "ax.plot([target.min(), target.max()], [target.min(), target.max()], 'k--', lw=4)\n",
    "ax.set_xlabel('Measured')\n",
    "ax.set_ylabel('Predicted')\n",
    "plt.show()"
   ]
  },
  {
   "cell_type": "code",
   "execution_count": 15,
   "metadata": {
    "collapsed": false
   },
   "outputs": [
    {
     "name": "stdout",
     "output_type": "stream",
     "text": [
      "Train RMSE: 1071.9311479\n"
     ]
    }
   ],
   "source": [
    "print 'Train RMSE: {}'.format(mean_squared_error(target*train_dummy['Item_MRP'], lm.predict(train_dummy)*(train_dummy['Item_MRP'].values))**0.5)"
   ]
  },
  {
   "cell_type": "code",
   "execution_count": 16,
   "metadata": {
    "collapsed": false
   },
   "outputs": [
    {
     "data": {
      "text/plain": [
       "<matplotlib.axes._subplots.AxesSubplot at 0x7f5325830690>"
      ]
     },
     "execution_count": 16,
     "metadata": {},
     "output_type": "execute_result"
    },
    {
     "data": {
      "image/png": "[encoded data removed]",
      "text/plain": [
       "<matplotlib.figure.Figure at 0x7f5325887d10>"
      ]
     },
     "metadata": {},
     "output_type": "display_data"
    }
   ],
   "source": [
    "coef = pd.Series(lm.coef_, train_dummy.columns.values).sort_values()\n",
    "coef.plot(kind='bar', title='Model Coefficients')"
   ]
  },
  {
   "cell_type": "code",
   "execution_count": 17,
   "metadata": {
    "collapsed": true
   },
   "outputs": [],
   "source": [
    "lm_preds = lm.predict(test_dummy)\n",
    "submission = pd.read_csv('../input/SampleSubmission_TmnO39y.csv')\n",
    "submission['Item_Outlet_Sales'] = lm_preds*test_dummy['Item_MRP']\n",
    "submission.to_csv('../submissions/lm.csv', index=False)"
   ]
  },
  {
   "cell_type": "code",
   "execution_count": 18,
   "metadata": {
    "collapsed": false
   },
   "outputs": [
    {
     "name": "stdout",
     "output_type": "stream",
     "text": [
      "                            OLS Regression Results                            \n",
      "==============================================================================\n",
      "Dep. Variable:      Item_Outlet_Sales   R-squared:                       0.429\n",
      "Model:                            OLS   Adj. R-squared:                  0.427\n",
      "Method:                 Least Squares   F-statistic:                     277.5\n",
      "Date:                Fri, 09 Sep 2016   Prob (F-statistic):               0.00\n",
      "Time:                        14:20:51   Log-Likelihood:                -28613.\n",
      "No. Observations:                8523   AIC:                         5.727e+04\n",
      "Df Residuals:                    8499   BIC:                         5.744e+04\n",
      "Df Model:                          23                                         \n",
      "Covariance Type:            nonrobust                                         \n",
      "===========================================================================================\n",
      "                              coef    std err          t      P>|t|      [95.0% Conf. Int.]\n",
      "-------------------------------------------------------------------------------------------\n",
      "Item_Weight                -0.0121      0.016     -0.746      0.456        -0.044     0.020\n",
      "Item_Visibility             2.5259      3.507      0.720      0.471        -4.349     9.400\n",
      "Item_MRP                    0.0006      0.002      0.295      0.768        -0.004     0.005\n",
      "MRP_Level                  -0.0007      0.001     -0.505      0.613        -0.003     0.002\n",
      "Outlet_age                  0.4928      0.047     10.501      0.000         0.401     0.585\n",
      "Item_Rating                 0.1456      0.213      0.685      0.493        -0.271     0.562\n",
      "Item_Fat_Content_0         -0.2541      0.175     -1.456      0.145        -0.596     0.088\n",
      "Item_Fat_Content_1          1.8744      0.360      5.202      0.000         1.168     2.581\n",
      "Outlet_Identifier_0        -0.6949      0.448     -1.551      0.121        -1.573     0.184\n",
      "Outlet_Identifier_1        -2.0690      0.184    -11.224      0.000        -2.430    -1.708\n",
      "Outlet_Identifier_2         2.7724      0.308      8.990      0.000         2.168     3.377\n",
      "Outlet_Identifier_3         1.8408      0.425      4.335      0.000         1.008     2.673\n",
      "Outlet_Identifier_4        -4.5367      0.233    -19.449      0.000        -4.994    -4.079\n",
      "Outlet_Identifier_5         4.5153      0.208     21.686      0.000         4.107     4.923\n",
      "Outlet_Identifier_6         1.6026      0.217      7.370      0.000         1.176     2.029\n",
      "Outlet_Identifier_7        -0.7731      0.189     -4.099      0.000        -1.143    -0.403\n",
      "Outlet_Identifier_8         3.4818      0.262     13.284      0.000         2.968     3.996\n",
      "Outlet_Size_0              -2.0690      0.184    -11.224      0.000        -2.430    -1.708\n",
      "Outlet_Size_1               4.9052      0.299     16.425      0.000         4.320     5.491\n",
      "Outlet_Location_Type_0     -2.5059      0.137    -18.285      0.000        -2.775    -2.237\n",
      "Outlet_Location_Type_1      3.6019      0.380      9.488      0.000         2.858     4.346\n",
      "Outlet_Type_0              -5.2317      0.276    -18.955      0.000        -5.773    -4.691\n",
      "Outlet_Type_1               3.5637      0.388      9.179      0.000         2.803     4.325\n",
      "Outlet_Type_2               1.8408      0.425      4.335      0.000         1.008     2.673\n",
      "Item_Type_Combined_0        1.3434      0.370      3.627      0.000         0.617     2.069\n",
      "Item_Type_Combined_1        1.4704      0.328      4.482      0.000         0.827     2.113\n",
      "Item_Outlet_Category_0     -1.5228      0.472     -3.229      0.001        -2.447    -0.598\n",
      "Item_Outlet_Category_1      1.6869      0.305      5.523      0.000         1.088     2.286\n",
      "Item_Outlet_Category_2      0.6027      0.516      1.167      0.243        -0.410     1.615\n",
      "Item_Outlet_Category_3      0.5766      0.650      0.888      0.375        -0.697     1.850\n",
      "Item_Outlet_Category_4     -1.6281      0.277     -5.887      0.000        -2.170    -1.086\n",
      "Item_Outlet_Category_5      1.2646      0.195      6.491      0.000         0.883     1.647\n",
      "Item_Outlet_Category_6      0.7919      0.312      2.536      0.011         0.180     1.404\n",
      "Item_Outlet_Category_7      1.0420      0.371      2.807      0.005         0.314     1.770\n",
      "Item_Outlet_Category_8     -2.0808      0.422     -4.930      0.000        -2.908    -1.253\n",
      "Item_Outlet_Category_9      0.6122      0.309      1.983      0.047         0.007     1.217\n",
      "Item_Outlet_Category_10     0.4463      0.463      0.964      0.335        -0.461     1.353\n",
      "==============================================================================\n",
      "Omnibus:                      353.847   Durbin-Watson:                   2.024\n",
      "Prob(Omnibus):                  0.000   Jarque-Bera (JB):              440.908\n",
      "Skew:                           0.452   Prob(JB):                     1.81e-96\n",
      "Kurtosis:                       3.651   Cond. No.                     1.13e+16\n",
      "==============================================================================\n",
      "\n",
      "Warnings:\n",
      "[1] Standard Errors assume that the covariance matrix of the errors is correctly specified.\n",
      "[2] The smallest eigenvalue is 2.28e-24. This might indicate that there are\n",
      "strong multicollinearity problems or that the design matrix is singular.\n"
     ]
    }
   ],
   "source": [
    "# train_dummy = train_dummy.drop('Item_Weight', axis=1)\n",
    "lr_sm = sm.OLS(target, train_dummy).fit()\n",
    "print lr_sm.summary()"
   ]
  },
  {
   "cell_type": "markdown",
   "metadata": {},
   "source": [
    "1. Durbin-Watson is close to 2. Hence, no auto correlation.\n",
    "2. Most of the p-values of variables are insignificant and hence they all contribute to regression. However, few variables have significant p-value. But removing them does not help."
   ]
  },
  {
   "cell_type": "code",
   "execution_count": 19,
   "metadata": {
    "collapsed": false
   },
   "outputs": [],
   "source": [
    "# test_dummy = test_dummy.drop('Item_Weight', axis=1)\n",
    "lr_preds = lr_sm.predict(test_dummy)\n",
    "submission = pd.read_csv('../input/SampleSubmission_TmnO39y.csv')\n",
    "submission['Item_Outlet_Sales'] = (lr_preds)*test['Item_MRP']\n",
    "submission.to_csv('../submissions/lm_sm.csv', index=False)"
   ]
  },
  {
   "cell_type": "markdown",
   "metadata": {},
   "source": [
    "## Submission scores around 1150 RMSE."
   ]
  }
 ],
 "metadata": {
  "anaconda-cloud": {},
  "kernelspec": {
   "display_name": "Python 2",
   "language": "python",
   "name": "python2"
  },
  "language_info": {
   "codemirror_mode": {
    "name": "ipython",
    "version": 2
   },
   "file_extension": ".py",
   "mimetype": "text/x-python",
   "name": "python",
   "nbconvert_exporter": "python",
   "pygments_lexer": "ipython2",
   "version": "2.7.12"
  }
 },
 "nbformat": 4,
 "nbformat_minor": 0
}
