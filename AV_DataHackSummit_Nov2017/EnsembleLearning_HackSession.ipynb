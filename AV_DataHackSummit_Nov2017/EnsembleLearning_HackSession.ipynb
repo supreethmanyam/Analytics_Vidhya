{
 "cells": [
  {
   "cell_type": "markdown",
   "metadata": {},
   "source": [
    "# Ensemble Learning"
   ]
  },
  {
   "cell_type": "markdown",
   "metadata": {
    "heading_collapsed": true
   },
   "source": [
    "# Introduction"
   ]
  },
  {
   "cell_type": "markdown",
   "metadata": {
    "hidden": true
   },
   "source": [
    "Ensemble Learning is a technique that combines predictions from multiple base learners to produce improved results and reduce the generalization error. More the diversification between base learners, better will be the performance and stablity of the combined model."
   ]
  },
  {
   "cell_type": "markdown",
   "metadata": {
    "hidden": true
   },
   "source": [
    "![ensemble](images/ensemblelearning.png)"
   ]
  },
  {
   "cell_type": "markdown",
   "metadata": {
    "heading_collapsed": true
   },
   "source": [
    "# Bias and Variance"
   ]
  },
  {
   "cell_type": "markdown",
   "metadata": {
    "hidden": true
   },
   "source": [
    "Mathematically, for a machine learning model the error can be written as the following.\n",
    "\n",
    "Err(x)=(Bias)^2 + Variance + Irreducible Error\n",
    "\n",
    "Error due to Bias: Bias can be defined as how far off the predictions are from the actual values. A model is said to be underfitting if it has high bias. Meaning, the complexity of the model is low compared to the data.\n",
    "\n",
    "Error due to Variance: Variance is how much the predictions for a given point vary between different realizations of the model. If a small change in the model changes a particular prediction significantly,  because of the high complexity the model is likely to overfit the training data. "
   ]
  },
  {
   "cell_type": "markdown",
   "metadata": {
    "hidden": true
   },
   "source": [
    "![Bias and Variance](images/biasvariance.png)"
   ]
  },
  {
   "cell_type": "markdown",
   "metadata": {
    "heading_collapsed": true
   },
   "source": [
    "# Data preparation"
   ]
  },
  {
   "cell_type": "markdown",
   "metadata": {
    "collapsed": true,
    "hidden": true
   },
   "source": [
    "We will take [Loan Prediction](https://datahack.analyticsvidhya.com/contest/practice-problem-loan-prediction-iii/) problem to understand ensembling learning practically"
   ]
  },
  {
   "cell_type": "markdown",
   "metadata": {
    "heading_collapsed": true,
    "hidden": true
   },
   "source": [
    "### Loading required libraries"
   ]
  },
  {
   "cell_type": "code",
   "execution_count": 1,
   "metadata": {
    "collapsed": true,
    "hidden": true
   },
   "outputs": [],
   "source": [
    "%load_ext autoreload\n",
    "%autoreload 2"
   ]
  },
  {
   "cell_type": "code",
   "execution_count": 2,
   "metadata": {
    "collapsed": true,
    "hidden": true
   },
   "outputs": [],
   "source": [
    "import pandas as pd\n",
    "from Utils import *\n",
    "\n",
    "from sklearn.linear_model import LogisticRegression, LinearRegression\n",
    "from sklearn.tree import DecisionTreeClassifier, DecisionTreeRegressor\n",
    "from sklearn.neighbors import KNeighborsClassifier, KNeighborsRegressor\n",
    "from sklearn.ensemble import RandomForestClassifier, RandomForestRegressor\n",
    "from xgboost import XGBClassifier, XGBRegressor\n",
    "from lightgbm.sklearn import LGBMClassifier\n",
    "\n",
    "from scipy.stats import mode\n",
    "from sklearn.metrics import accuracy_score, roc_auc_score, log_loss\n",
    "from sklearn.model_selection import cross_val_score\n",
    "from scipy.stats import rankdata"
   ]
  },
  {
   "cell_type": "code",
   "execution_count": 3,
   "metadata": {
    "collapsed": true,
    "hidden": true
   },
   "outputs": [],
   "source": [
    "SEED = 2017"
   ]
  },
  {
   "cell_type": "markdown",
   "metadata": {
    "heading_collapsed": true,
    "hidden": true
   },
   "source": [
    "### Data preprocessing and splitting"
   ]
  },
  {
   "cell_type": "code",
   "execution_count": 4,
   "metadata": {
    "collapsed": true,
    "hidden": true
   },
   "outputs": [],
   "source": [
    "data_preprocessing = preprocessing()"
   ]
  },
  {
   "cell_type": "code",
   "execution_count": 5,
   "metadata": {
    "hidden": true
   },
   "outputs": [
    {
     "data": {
      "text/html": [
       "<div>\n",
       "<style>\n",
       "    .dataframe thead tr:only-child th {\n",
       "        text-align: right;\n",
       "    }\n",
       "\n",
       "    .dataframe thead th {\n",
       "        text-align: left;\n",
       "    }\n",
       "\n",
       "    .dataframe tbody tr th {\n",
       "        vertical-align: top;\n",
       "    }\n",
       "</style>\n",
       "<table border=\"1\" class=\"dataframe\">\n",
       "  <thead>\n",
       "    <tr style=\"text-align: right;\">\n",
       "      <th></th>\n",
       "      <th>Loan_ID</th>\n",
       "      <th>Gender</th>\n",
       "      <th>Married</th>\n",
       "      <th>Dependents</th>\n",
       "      <th>Education</th>\n",
       "      <th>Self_Employed</th>\n",
       "      <th>ApplicantIncome</th>\n",
       "      <th>CoapplicantIncome</th>\n",
       "      <th>LoanAmount</th>\n",
       "      <th>Loan_Amount_Term</th>\n",
       "      <th>Credit_History</th>\n",
       "      <th>Property_Area</th>\n",
       "      <th>Loan_Status</th>\n",
       "    </tr>\n",
       "  </thead>\n",
       "  <tbody>\n",
       "    <tr>\n",
       "      <th>0</th>\n",
       "      <td>LP001002</td>\n",
       "      <td>Male</td>\n",
       "      <td>No</td>\n",
       "      <td>0</td>\n",
       "      <td>Graduate</td>\n",
       "      <td>No</td>\n",
       "      <td>5849</td>\n",
       "      <td>0.0</td>\n",
       "      <td>NaN</td>\n",
       "      <td>360.0</td>\n",
       "      <td>1.0</td>\n",
       "      <td>Urban</td>\n",
       "      <td>Y</td>\n",
       "    </tr>\n",
       "    <tr>\n",
       "      <th>1</th>\n",
       "      <td>LP001003</td>\n",
       "      <td>Male</td>\n",
       "      <td>Yes</td>\n",
       "      <td>1</td>\n",
       "      <td>Graduate</td>\n",
       "      <td>No</td>\n",
       "      <td>4583</td>\n",
       "      <td>1508.0</td>\n",
       "      <td>128.0</td>\n",
       "      <td>360.0</td>\n",
       "      <td>1.0</td>\n",
       "      <td>Rural</td>\n",
       "      <td>N</td>\n",
       "    </tr>\n",
       "    <tr>\n",
       "      <th>2</th>\n",
       "      <td>LP001005</td>\n",
       "      <td>Male</td>\n",
       "      <td>Yes</td>\n",
       "      <td>0</td>\n",
       "      <td>Graduate</td>\n",
       "      <td>Yes</td>\n",
       "      <td>3000</td>\n",
       "      <td>0.0</td>\n",
       "      <td>66.0</td>\n",
       "      <td>360.0</td>\n",
       "      <td>1.0</td>\n",
       "      <td>Urban</td>\n",
       "      <td>Y</td>\n",
       "    </tr>\n",
       "    <tr>\n",
       "      <th>3</th>\n",
       "      <td>LP001006</td>\n",
       "      <td>Male</td>\n",
       "      <td>Yes</td>\n",
       "      <td>0</td>\n",
       "      <td>Not Graduate</td>\n",
       "      <td>No</td>\n",
       "      <td>2583</td>\n",
       "      <td>2358.0</td>\n",
       "      <td>120.0</td>\n",
       "      <td>360.0</td>\n",
       "      <td>1.0</td>\n",
       "      <td>Urban</td>\n",
       "      <td>Y</td>\n",
       "    </tr>\n",
       "    <tr>\n",
       "      <th>4</th>\n",
       "      <td>LP001008</td>\n",
       "      <td>Male</td>\n",
       "      <td>No</td>\n",
       "      <td>0</td>\n",
       "      <td>Graduate</td>\n",
       "      <td>No</td>\n",
       "      <td>6000</td>\n",
       "      <td>0.0</td>\n",
       "      <td>141.0</td>\n",
       "      <td>360.0</td>\n",
       "      <td>1.0</td>\n",
       "      <td>Urban</td>\n",
       "      <td>Y</td>\n",
       "    </tr>\n",
       "  </tbody>\n",
       "</table>\n",
       "</div>"
      ],
      "text/plain": [
       "    Loan_ID Gender Married Dependents     Education Self_Employed  \\\n",
       "0  LP001002   Male      No          0      Graduate            No   \n",
       "1  LP001003   Male     Yes          1      Graduate            No   \n",
       "2  LP001005   Male     Yes          0      Graduate           Yes   \n",
       "3  LP001006   Male     Yes          0  Not Graduate            No   \n",
       "4  LP001008   Male      No          0      Graduate            No   \n",
       "\n",
       "   ApplicantIncome  CoapplicantIncome  LoanAmount  Loan_Amount_Term  \\\n",
       "0             5849                0.0         NaN             360.0   \n",
       "1             4583             1508.0       128.0             360.0   \n",
       "2             3000                0.0        66.0             360.0   \n",
       "3             2583             2358.0       120.0             360.0   \n",
       "4             6000                0.0       141.0             360.0   \n",
       "\n",
       "   Credit_History Property_Area Loan_Status  \n",
       "0             1.0         Urban           Y  \n",
       "1             1.0         Rural           N  \n",
       "2             1.0         Urban           Y  \n",
       "3             1.0         Urban           Y  \n",
       "4             1.0         Urban           Y  "
      ]
     },
     "execution_count": 5,
     "metadata": {},
     "output_type": "execute_result"
    }
   ],
   "source": [
    "data = pd.read_csv('Loan_Prediction_data/train_u6lujuX_CVtuZ9i.csv');data.head()"
   ]
  },
  {
   "cell_type": "code",
   "execution_count": 6,
   "metadata": {
    "hidden": true
   },
   "outputs": [
    {
     "data": {
      "text/html": [
       "<div>\n",
       "<style>\n",
       "    .dataframe thead tr:only-child th {\n",
       "        text-align: right;\n",
       "    }\n",
       "\n",
       "    .dataframe thead th {\n",
       "        text-align: left;\n",
       "    }\n",
       "\n",
       "    .dataframe tbody tr th {\n",
       "        vertical-align: top;\n",
       "    }\n",
       "</style>\n",
       "<table border=\"1\" class=\"dataframe\">\n",
       "  <thead>\n",
       "    <tr style=\"text-align: right;\">\n",
       "      <th></th>\n",
       "      <th>Loan_ID</th>\n",
       "      <th>Gender</th>\n",
       "      <th>Married</th>\n",
       "      <th>Education</th>\n",
       "      <th>Self_Employed</th>\n",
       "      <th>ApplicantIncome</th>\n",
       "      <th>CoapplicantIncome</th>\n",
       "      <th>LoanAmount</th>\n",
       "      <th>Loan_Amount_Term</th>\n",
       "      <th>Credit_History</th>\n",
       "      <th>Loan_Status</th>\n",
       "    </tr>\n",
       "  </thead>\n",
       "  <tbody>\n",
       "    <tr>\n",
       "      <th>0</th>\n",
       "      <td>LP001002</td>\n",
       "      <td>1</td>\n",
       "      <td>0</td>\n",
       "      <td>1</td>\n",
       "      <td>0</td>\n",
       "      <td>5849</td>\n",
       "      <td>0.0</td>\n",
       "      <td>146.412162</td>\n",
       "      <td>360.0</td>\n",
       "      <td>1.0</td>\n",
       "      <td>1</td>\n",
       "    </tr>\n",
       "    <tr>\n",
       "      <th>1</th>\n",
       "      <td>LP001003</td>\n",
       "      <td>1</td>\n",
       "      <td>1</td>\n",
       "      <td>1</td>\n",
       "      <td>0</td>\n",
       "      <td>4583</td>\n",
       "      <td>1508.0</td>\n",
       "      <td>128.000000</td>\n",
       "      <td>360.0</td>\n",
       "      <td>1.0</td>\n",
       "      <td>0</td>\n",
       "    </tr>\n",
       "    <tr>\n",
       "      <th>2</th>\n",
       "      <td>LP001005</td>\n",
       "      <td>1</td>\n",
       "      <td>1</td>\n",
       "      <td>1</td>\n",
       "      <td>1</td>\n",
       "      <td>3000</td>\n",
       "      <td>0.0</td>\n",
       "      <td>66.000000</td>\n",
       "      <td>360.0</td>\n",
       "      <td>1.0</td>\n",
       "      <td>1</td>\n",
       "    </tr>\n",
       "    <tr>\n",
       "      <th>3</th>\n",
       "      <td>LP001006</td>\n",
       "      <td>1</td>\n",
       "      <td>1</td>\n",
       "      <td>0</td>\n",
       "      <td>0</td>\n",
       "      <td>2583</td>\n",
       "      <td>2358.0</td>\n",
       "      <td>120.000000</td>\n",
       "      <td>360.0</td>\n",
       "      <td>1.0</td>\n",
       "      <td>1</td>\n",
       "    </tr>\n",
       "    <tr>\n",
       "      <th>4</th>\n",
       "      <td>LP001008</td>\n",
       "      <td>1</td>\n",
       "      <td>0</td>\n",
       "      <td>1</td>\n",
       "      <td>0</td>\n",
       "      <td>6000</td>\n",
       "      <td>0.0</td>\n",
       "      <td>141.000000</td>\n",
       "      <td>360.0</td>\n",
       "      <td>1.0</td>\n",
       "      <td>1</td>\n",
       "    </tr>\n",
       "  </tbody>\n",
       "</table>\n",
       "</div>"
      ],
      "text/plain": [
       "    Loan_ID  Gender  Married  Education  Self_Employed  ApplicantIncome  \\\n",
       "0  LP001002       1        0          1              0             5849   \n",
       "1  LP001003       1        1          1              0             4583   \n",
       "2  LP001005       1        1          1              1             3000   \n",
       "3  LP001006       1        1          0              0             2583   \n",
       "4  LP001008       1        0          1              0             6000   \n",
       "\n",
       "   CoapplicantIncome  LoanAmount  Loan_Amount_Term  Credit_History  \\\n",
       "0                0.0  146.412162             360.0             1.0   \n",
       "1             1508.0  128.000000             360.0             1.0   \n",
       "2                0.0   66.000000             360.0             1.0   \n",
       "3             2358.0  120.000000             360.0             1.0   \n",
       "4                0.0  141.000000             360.0             1.0   \n",
       "\n",
       "   Loan_Status  \n",
       "0            1  \n",
       "1            0  \n",
       "2            1  \n",
       "3            1  \n",
       "4            1  "
      ]
     },
     "execution_count": 6,
     "metadata": {},
     "output_type": "execute_result"
    }
   ],
   "source": [
    "preprocessed_data = data_preprocessing.preprocess(data);preprocessed_data.head()"
   ]
  },
  {
   "cell_type": "code",
   "execution_count": 7,
   "metadata": {
    "hidden": true
   },
   "outputs": [
    {
     "name": "stdout",
     "output_type": "stream",
     "text": [
      "Train shape: (564, 9)\n",
      "Test shape: (50, 9)\n"
     ]
    }
   ],
   "source": [
    "X_train, X_test, y_train, y_test, id_train, id_test = data_preprocessing.split_data(preprocessed_data)"
   ]
  },
  {
   "cell_type": "markdown",
   "metadata": {
    "heading_collapsed": true
   },
   "source": [
    "# Data Modelling"
   ]
  },
  {
   "cell_type": "markdown",
   "metadata": {
    "hidden": true
   },
   "source": [
    "### Model building"
   ]
  },
  {
   "cell_type": "code",
   "execution_count": 8,
   "metadata": {
    "collapsed": true,
    "hidden": true
   },
   "outputs": [],
   "source": [
    "classifier = model(X_train, y_train, X_test, id_train, id_test)\n",
    "lr_preds, lr_probs = classifier.fit_predict(LogisticRegression(C=0.2, random_state=SEED))\n",
    "dt_preds, dt_probs = classifier.fit_predict(DecisionTreeClassifier(max_depth=5, random_state=SEED))\n",
    "knn_preds, knn_probs = classifier.fit_predict(KNeighborsClassifier(n_neighbors=25))\n",
    "rf_preds, rf_probs = classifier.fit_predict(RandomForestClassifier(max_depth=2, random_state=SEED))\n",
    "xgb_preds, xgb_probs = classifier.fit_predict(XGBClassifier(max_depth=7, seed=SEED))"
   ]
  },
  {
   "cell_type": "markdown",
   "metadata": {
    "hidden": true
   },
   "source": [
    "### Predictions"
   ]
  },
  {
   "cell_type": "code",
   "execution_count": 9,
   "metadata": {
    "collapsed": true,
    "hidden": true
   },
   "outputs": [],
   "source": [
    "preds_df = pd.DataFrame({'True Lables': y_test.values, 'LR Preds': lr_preds, \n",
    "                         'DT Preds': dt_preds, 'KNN Preds': knn_preds,\n",
    "                         'RF Preds': rf_preds, 'XGB Preds': xgb_preds})\n",
    "\n",
    "probs_df = pd.DataFrame({'True Lables': y_test.values, 'LR Probs': lr_probs, \n",
    "                         'DT Probs': dt_probs, 'KNN Probs': knn_probs,\n",
    "                         'RF Probs': rf_probs, 'XGB Probs': xgb_probs})\n",
    "cols_preds = ['True Lables', 'LR Preds', 'DT Preds', 'KNN Preds', 'RF Preds', 'XGB Preds']\n",
    "cols_probs = [x.replace('Preds', 'Probs') if 'Preds' else x in x for x in cols_preds]"
   ]
  },
  {
   "cell_type": "markdown",
   "metadata": {
    "heading_collapsed": true
   },
   "source": [
    "# Ensembling Techniques"
   ]
  },
  {
   "cell_type": "markdown",
   "metadata": {
    "heading_collapsed": true,
    "hidden": true
   },
   "source": [
    "## 1. Voting"
   ]
  },
  {
   "cell_type": "markdown",
   "metadata": {
    "hidden": true
   },
   "source": [
    "![Voting](images/Voting_Cropped.png)"
   ]
  },
  {
   "cell_type": "markdown",
   "metadata": {
    "hidden": true
   },
   "source": [
    "### 1.1: Hard Voting"
   ]
  },
  {
   "cell_type": "markdown",
   "metadata": {
    "hidden": true
   },
   "source": [
    "Hard voting is used to improve the preformance of metrics such as accuracy, f1 etc., which are based on the actual predicitions. Voting predictions are obtained by taking the direct majority voting on the predictions from different models. Often best results are obtained when merging decorrelated models."
   ]
  },
  {
   "cell_type": "code",
   "execution_count": 10,
   "metadata": {
    "hidden": true
   },
   "outputs": [
    {
     "name": "stdout",
     "output_type": "stream",
     "text": [
      "Accuracy LR 0.74\n",
      "Accuracy DT 0.7\n",
      "Accuracy KNN 0.62\n",
      "Accuracy RF 0.74\n",
      "Accuracy XGB 0.7\n"
     ]
    }
   ],
   "source": [
    "print('Accuracy LR {}'.format(accuracy_score(y_test.values, lr_preds)))\n",
    "print('Accuracy DT {}'.format(accuracy_score(y_test.values, dt_preds)))\n",
    "print('Accuracy KNN {}'.format(accuracy_score(y_test.values, knn_preds)))\n",
    "print('Accuracy RF {}'.format(accuracy_score(y_test.values, rf_preds)))\n",
    "print('Accuracy XGB {}'.format(accuracy_score(y_test.values, xgb_preds)))"
   ]
  },
  {
   "cell_type": "code",
   "execution_count": 11,
   "metadata": {
    "hidden": true
   },
   "outputs": [
    {
     "name": "stdout",
     "output_type": "stream",
     "text": [
      "Accuracy VOTING 0.76\n"
     ]
    }
   ],
   "source": [
    "voting_preds = preds_df[cols_preds].apply(lambda x: mode(x)[0][0], axis=1).values\n",
    "preds_df['Voting Preds'] = voting_preds\n",
    "\n",
    "print('Accuracy VOTING {}'.format(accuracy_score(y_test.values, voting_preds)))"
   ]
  },
  {
   "cell_type": "markdown",
   "metadata": {
    "hidden": true
   },
   "source": [
    "Every algorithm treats the data differently and hence merging machine learning models generally performs better than individual model allowing more flexibility in handling Bias-Variance tradeoff."
   ]
  },
  {
   "cell_type": "code",
   "execution_count": 12,
   "metadata": {
    "collapsed": true,
    "hidden": true
   },
   "outputs": [],
   "source": [
    "writer = pd.ExcelWriter('Ensemble Learning.xlsx')\n",
    "preds_df[cols_preds+['Voting Preds']].to_excel(writer,'Predictions')\n",
    "probs_df[cols_probs].to_excel(writer,'Probabilities')\n",
    "# writer.save()"
   ]
  },
  {
   "cell_type": "markdown",
   "metadata": {
    "hidden": true
   },
   "source": [
    "### 1.2: Soft Voting"
   ]
  },
  {
   "cell_type": "markdown",
   "metadata": {
    "hidden": true
   },
   "source": [
    "Soft voting predicts the class label based on the maximum value of the average of the predicted probabilities.\n",
    "Equal weights(Simple average) or unequal weights(Weighted average) can be assigned to each model predictions based on the individual performance of the models to improve the results. Soft voting works to improve the performance on metrics which are not specific to the order of probabilities rather depends on how close are the predicted probabilities are to the labels, for example, Logloss. Let's perform these tasks in excel for better understanding."
   ]
  },
  {
   "cell_type": "markdown",
   "metadata": {
    "heading_collapsed": true,
    "hidden": true
   },
   "source": [
    "## 2. Rank ensemble"
   ]
  },
  {
   "cell_type": "markdown",
   "metadata": {
    "hidden": true
   },
   "source": [
    "Nature of predicted probabilities from different algorithms may or may not be the same, meaning the statistics of the probabilities may differ from each other depending on whether the algorithms are either underfitting or overfitting. Hence, soft voting may not be the right approach for ensembling. Rank ensembling, ranks the probabilities which then can be used for simple average or weighted average followed by scaling. Unlike Logloss, metrics like AUC are computed based on the order of probabilities. So, Rank average is the appropriate ensembling technique for optimizing AUC."
   ]
  },
  {
   "cell_type": "code",
   "execution_count": 13,
   "metadata": {
    "hidden": true
   },
   "outputs": [
    {
     "name": "stdout",
     "output_type": "stream",
     "text": [
      "AUC LR 0.8106617647058824\n",
      "AUC DT 0.6332720588235293\n",
      "AUC KNN 0.400735294117647\n",
      "AUC RF 0.7141544117647058\n",
      "AUC XGB 0.7849264705882353\n"
     ]
    }
   ],
   "source": [
    "print('AUC LR {}'.format(roc_auc_score(y_test.values, lr_probs)))\n",
    "print('AUC DT {}'.format(roc_auc_score(y_test.values, dt_probs)))\n",
    "print('AUC KNN {}'.format(roc_auc_score(y_test.values, knn_probs)))\n",
    "print('AUC RF {}'.format(roc_auc_score(y_test.values, rf_probs)))\n",
    "print('AUC XGB {}'.format(roc_auc_score(y_test.values, xgb_probs)))"
   ]
  },
  {
   "cell_type": "code",
   "execution_count": 14,
   "metadata": {
    "collapsed": true,
    "hidden": true
   },
   "outputs": [],
   "source": [
    "probs_df['LR_rank'] = rankdata(probs_df['LR Probs'])\n",
    "probs_df['DT_rank'] = rankdata(probs_df['DT Probs'])\n",
    "probs_df['KNN_rank'] = rankdata(probs_df['KNN Probs'])\n",
    "probs_df['RF_rank'] = rankdata(probs_df['RF Probs'])\n",
    "probs_df['XGB_rank'] = rankdata(probs_df['XGB Probs'])"
   ]
  },
  {
   "cell_type": "code",
   "execution_count": 15,
   "metadata": {
    "hidden": true
   },
   "outputs": [
    {
     "name": "stdout",
     "output_type": "stream",
     "text": [
      "AUC Rank Average 0.8143382352941176\n"
     ]
    }
   ],
   "source": [
    "probs_df['Final_rank'] = (probs_df['LR_rank']* 0.5 +\n",
    "                          probs_df['DT_rank']* 0.025 +\n",
    "                          probs_df['KNN_rank']* 0.025 +\n",
    "                          probs_df['RF_rank']* 0.1 +\n",
    "                          probs_df['XGB_rank']* 0.35)\n",
    "print('AUC Rank Average {}'.format(roc_auc_score(y_test.values, probs_df['Final_rank'])))"
   ]
  },
  {
   "cell_type": "markdown",
   "metadata": {
    "hidden": true
   },
   "source": [
    "#### There are numerous other ways to approach ensembling. Hard voting and soft voting are the two simplest techniques to perform ensembling. Bagging and boosting are two other approaches that are used to build machine learning algorithms with the primary idea of the voting methods discussed above with few modifications."
   ]
  },
  {
   "cell_type": "markdown",
   "metadata": {
    "heading_collapsed": true,
    "hidden": true
   },
   "source": [
    "## 3. Bagging"
   ]
  },
  {
   "cell_type": "markdown",
   "metadata": {
    "hidden": true
   },
   "source": [
    "Combining multiple similar or dissimilar algorithms each utilising randomly choosen subset of complete data for training is called bagging. Bagging is less prone to overfitting. Random forest is an example for bagging technique."
   ]
  },
  {
   "cell_type": "markdown",
   "metadata": {
    "hidden": true
   },
   "source": [
    "![](images/BaggingCropped.png)"
   ]
  },
  {
   "cell_type": "markdown",
   "metadata": {
    "heading_collapsed": true,
    "hidden": true
   },
   "source": [
    "## 4. Boosting"
   ]
  },
  {
   "cell_type": "markdown",
   "metadata": {
    "hidden": true
   },
   "source": [
    "Boosting is a similar but more powerful appraoch than bagging. Except that boosting builds sequentially to optimize loss for every model by assigning weights on the data samples choosen. As the loss is optimized here, the complexity increases and is prone to overfitting but reduces bias. XGBoost, Lightgbm and recently released Catboost are all boosting algorithms. Boosting algorithms generally outperforms any other algorithms and hence the most used algorithm in competitions."
   ]
  },
  {
   "cell_type": "markdown",
   "metadata": {
    "hidden": true
   },
   "source": [
    "![](images/BoostingCropped.png)"
   ]
  },
  {
   "cell_type": "markdown",
   "metadata": {
    "heading_collapsed": true,
    "hidden": true
   },
   "source": [
    "## 5. Blending"
   ]
  },
  {
   "cell_type": "markdown",
   "metadata": {
    "hidden": true
   },
   "source": [
    "1. Create a holdout of 10% of the train set\n",
    "2. Fit a model on the train set without the holdout\n",
    "3. Predict the untouched holdout with the trained first model\n",
    "4. Fit a logistic regression model on the generated probabilities and hold out labels to obtain the optimal weights for each model.\n",
    "5. Retrain the model on complete training data and use the obtained optimal weights for soft voting on test predictions."
   ]
  },
  {
   "cell_type": "markdown",
   "metadata": {
    "hidden": true
   },
   "source": [
    "Blending is prone to overfitting as it majorly depends on the difference in dynamics of the hold-out set and future test data"
   ]
  },
  {
   "cell_type": "code",
   "execution_count": 16,
   "metadata": {
    "collapsed": true,
    "hidden": true
   },
   "outputs": [],
   "source": [
    "build, holdout, y_build, y_holdout = train_test_split(X_train, y_train, test_size=0.1, random_state=SEED, stratify=y_train)\n",
    "cols_for_blending = np.setdiff1d(build.columns.values, ['Loan_ID'])"
   ]
  },
  {
   "cell_type": "code",
   "execution_count": 17,
   "metadata": {
    "collapsed": true,
    "hidden": true
   },
   "outputs": [],
   "source": [
    "blending_classifier = model(build[cols_for_blending], y_build, holdout[cols_for_blending], _, _)\n",
    "lr_blending_preds, lr_blending_probs = blending_classifier.fit_predict(LogisticRegression(random_state=SEED))\n",
    "dt_blending_preds, dt_blending_probs = blending_classifier.fit_predict(DecisionTreeClassifier(random_state=SEED))\n",
    "knn_blending_preds, knn_blending_probs = blending_classifier.fit_predict(KNeighborsClassifier())\n",
    "rf_blending_preds, rf_blending_probs = blending_classifier.fit_predict(RandomForestClassifier(random_state=SEED))\n",
    "xgb_blending_preds, xgb_blending_probs = blending_classifier.fit_predict(XGBClassifier(seed=SEED))"
   ]
  },
  {
   "cell_type": "code",
   "execution_count": 18,
   "metadata": {
    "hidden": true
   },
   "outputs": [
    {
     "name": "stdout",
     "output_type": "stream",
     "text": [
      "Blender Logloss: -0.5646234625202811\n"
     ]
    }
   ],
   "source": [
    "blender = LogisticRegression(C=0.7)\n",
    "\n",
    "train_blending = np.vstack((lr_blending_probs, dt_blending_probs, knn_blending_probs, rf_blending_probs, xgb_blending_probs)).T\n",
    "\n",
    "res = cross_val_score(blender, train_blending, y_holdout, cv=5, scoring='neg_log_loss')\n",
    "print('Blender Logloss: {}'.format(np.mean(res)))"
   ]
  },
  {
   "cell_type": "code",
   "execution_count": 19,
   "metadata": {
    "collapsed": true,
    "hidden": true
   },
   "outputs": [],
   "source": [
    "model_blending = blender.fit(train_blending, y_holdout)"
   ]
  },
  {
   "cell_type": "code",
   "execution_count": 20,
   "metadata": {
    "collapsed": true,
    "hidden": true
   },
   "outputs": [],
   "source": [
    "weights = model_blending.coef_[0]\n",
    "weights = weights/weights.sum()"
   ]
  },
  {
   "cell_type": "code",
   "execution_count": 21,
   "metadata": {
    "collapsed": true,
    "hidden": true
   },
   "outputs": [],
   "source": [
    "blending_probs = (np.vstack((lr_probs, dt_probs, knn_probs, rf_probs, xgb_probs)).T*weights).sum(axis=1)"
   ]
  },
  {
   "cell_type": "code",
   "execution_count": 22,
   "metadata": {
    "collapsed": true,
    "hidden": true
   },
   "outputs": [],
   "source": [
    "all_preds = np.vstack((lr_preds, dt_preds, knn_preds, rf_preds, xgb_preds)).T\n",
    "max_prob_index = np.argmax((np.vstack((lr_probs, dt_probs, knn_probs, rf_probs, xgb_probs)).T*weights), axis=1)"
   ]
  },
  {
   "cell_type": "code",
   "execution_count": 23,
   "metadata": {
    "collapsed": true,
    "hidden": true
   },
   "outputs": [],
   "source": [
    "blending_preds = [all_preds[i,j] for i,j in enumerate(max_prob_index)]"
   ]
  },
  {
   "cell_type": "code",
   "execution_count": 24,
   "metadata": {
    "collapsed": true,
    "hidden": true
   },
   "outputs": [],
   "source": [
    "blending_df = pd.DataFrame({'True Labels': y_test, 'Blending Preds': blending_preds, 'Blending Probs': blending_probs})\n",
    "blending_df[['True Labels', 'Blending Preds', 'Blending Probs']].to_excel(writer, 'Blending Results')"
   ]
  },
  {
   "cell_type": "markdown",
   "metadata": {
    "heading_collapsed": true,
    "hidden": true
   },
   "source": [
    "## 6. Stacking"
   ]
  },
  {
   "cell_type": "markdown",
   "metadata": {
    "hidden": true
   },
   "source": [
    "1. Split the train set in k folds\n",
    "2. Fit a model on k-1 folds and predict the kth fold and the test set\n",
    "3. Repeat 2. to predict each fold\n",
    "4. We now have the (out-of-folds) prediction of the k folds and the average of all test predictions\n",
    "5. Use train and test out of folds predictions to fit a second level model with cross validation\n",
    "6. Predict on test data"
   ]
  },
  {
   "cell_type": "markdown",
   "metadata": {
    "hidden": true
   },
   "source": [
    "Out of fold predictions are used to avoid overfitting on the train data.\n",
    "\n",
    "stacking of more diversified models builds robustness and generalizes well on the test data. Hence, sometimes it is also known as stacked generalization.\n",
    "\n",
    "Either Linear models or Non-linear models can be used as the meta learners for stacking."
   ]
  },
  {
   "cell_type": "code",
   "execution_count": 25,
   "metadata": {
    "collapsed": true,
    "hidden": true
   },
   "outputs": [],
   "source": [
    "lr_train_oof, lr_test_oof = classifier.get_oof(LogisticRegression(random_state=0), 'LogReg')\n",
    "dt_train_oof, dt_test_oof = classifier.get_oof(DecisionTreeClassifier(random_state=0), 'DT')\n",
    "knn_train_oof, knn_test_oof = classifier.get_oof(KNeighborsClassifier(), 'KNN')\n",
    "rf_train_oof, rf_test_oof = classifier.get_oof(RandomForestClassifier(random_state=0), 'RF')\n",
    "xgb_train_oof, xgb_test_oof = classifier.get_oof(XGBClassifier(seed=0), 'XGB')"
   ]
  },
  {
   "cell_type": "code",
   "execution_count": 26,
   "metadata": {
    "collapsed": true,
    "hidden": true
   },
   "outputs": [],
   "source": [
    "train_oof = (lr_train_oof.merge(dt_train_oof, on='Loan_ID', how='left')\n",
    "                         .merge(knn_train_oof, on='Loan_ID', how='left')\n",
    "                         .merge(rf_train_oof, on='Loan_ID', how='left')\n",
    "                         .merge(xgb_train_oof, on='Loan_ID', how='left'))\n",
    "\n",
    "test_oof = (lr_test_oof.merge(dt_test_oof, on='Loan_ID', how='left')\n",
    "                         .merge(knn_test_oof, on='Loan_ID', how='left')\n",
    "                         .merge(rf_test_oof, on='Loan_ID', how='left')\n",
    "                         .merge(xgb_test_oof, on='Loan_ID', how='left'))"
   ]
  },
  {
   "cell_type": "code",
   "execution_count": 27,
   "metadata": {
    "collapsed": true,
    "hidden": true
   },
   "outputs": [],
   "source": [
    "X_train['Loan_ID'] = id_train\n",
    "X_test['Loan_ID'] = id_test\n",
    "final_train = train_oof.merge(X_train, on='Loan_ID', how='left')\n",
    "final_test = test_oof.merge(X_test, on='Loan_ID', how='left')\n",
    "cols_for_model = np.setdiff1d(final_train.columns.values, ['Loan_ID'])"
   ]
  },
  {
   "cell_type": "code",
   "execution_count": 28,
   "metadata": {
    "hidden": true
   },
   "outputs": [
    {
     "data": {
      "text/plain": [
       "array(['ApplicantIncome', 'CoapplicantIncome', 'Credit_History',\n",
       "       'DT_Prediction', 'Education', 'Gender', 'KNN_Prediction',\n",
       "       'LoanAmount', 'Loan_Amount_Term', 'LogReg_Prediction', 'Married',\n",
       "       'RF_Prediction', 'Self_Employed', 'XGB_Prediction'], dtype=object)"
      ]
     },
     "execution_count": 28,
     "metadata": {},
     "output_type": "execute_result"
    }
   ],
   "source": [
    "cols_for_model"
   ]
  },
  {
   "cell_type": "code",
   "execution_count": 29,
   "metadata": {
    "collapsed": true,
    "hidden": true
   },
   "outputs": [],
   "source": [
    "stacker = LGBMClassifier(n_estimators=1200, max_bin=255, boosting_type='gbdt', colsample_bytree=0.7, seed=SEED,\n",
    "                         learning_rate=0.05, subsample=0.9, min_child_samples=200, num_leaves=127)"
   ]
  },
  {
   "cell_type": "code",
   "execution_count": 30,
   "metadata": {
    "hidden": true
   },
   "outputs": [
    {
     "name": "stdout",
     "output_type": "stream",
     "text": [
      "Stacker Logloss: -0.5739773875959233\n"
     ]
    }
   ],
   "source": [
    "res = cross_val_score(stacker, final_train[cols_for_model], classifier.y, cv=5, scoring='neg_log_loss')\n",
    "print('Stacker Logloss: {}'.format(np.mean(res)))"
   ]
  },
  {
   "cell_type": "code",
   "execution_count": 31,
   "metadata": {
    "collapsed": true,
    "hidden": true
   },
   "outputs": [],
   "source": [
    "clf_second_level = stacker.fit(final_train[cols_for_model], classifier.y)"
   ]
  },
  {
   "cell_type": "code",
   "execution_count": 32,
   "metadata": {
    "collapsed": true,
    "hidden": true
   },
   "outputs": [],
   "source": [
    "stacking_probs = clf_second_level.predict_proba(final_test[cols_for_model])[:, 1]\n",
    "stacking_preds = clf_second_level.predict(final_test[cols_for_model])\n",
    "stacking_df = pd.DataFrame({'True Labels': y_test, 'Stacking Preds': stacking_preds, 'Stacking Probs': stacking_probs})\n",
    "stacking_df[['True Labels', 'Stacking Preds', 'Stacking Probs']].to_excel(writer, 'Stacking Results')\n",
    "writer.save()"
   ]
  },
  {
   "cell_type": "markdown",
   "metadata": {
    "heading_collapsed": true
   },
   "source": [
    "# Visualize predicted probabilities"
   ]
  },
  {
   "cell_type": "markdown",
   "metadata": {
    "hidden": true
   },
   "source": [
    "Let's visualize the predicted probabilities from the ensembling approaches"
   ]
  },
  {
   "cell_type": "code",
   "execution_count": 33,
   "metadata": {
    "collapsed": true,
    "hidden": true
   },
   "outputs": [],
   "source": [
    "%matplotlib inline\n",
    "import matplotlib.pyplot as plt\n",
    "import seaborn as sns"
   ]
  },
  {
   "cell_type": "code",
   "execution_count": 34,
   "metadata": {
    "hidden": true
   },
   "outputs": [
    {
     "data": {
      "text/html": [
       "<div>\n",
       "<style>\n",
       "    .dataframe thead tr:only-child th {\n",
       "        text-align: right;\n",
       "    }\n",
       "\n",
       "    .dataframe thead th {\n",
       "        text-align: left;\n",
       "    }\n",
       "\n",
       "    .dataframe tbody tr th {\n",
       "        vertical-align: top;\n",
       "    }\n",
       "</style>\n",
       "<table border=\"1\" class=\"dataframe\">\n",
       "  <thead>\n",
       "    <tr style=\"text-align: right;\">\n",
       "      <th></th>\n",
       "      <th>DT Probs</th>\n",
       "      <th>KNN Probs</th>\n",
       "      <th>LR Probs</th>\n",
       "      <th>RF Probs</th>\n",
       "      <th>True Lables</th>\n",
       "      <th>XGB Probs</th>\n",
       "      <th>LR_rank</th>\n",
       "      <th>DT_rank</th>\n",
       "      <th>KNN_rank</th>\n",
       "      <th>RF_rank</th>\n",
       "      <th>XGB_rank</th>\n",
       "      <th>Final_rank</th>\n",
       "      <th>Stacking Probs</th>\n",
       "    </tr>\n",
       "  </thead>\n",
       "  <tbody>\n",
       "    <tr>\n",
       "      <th>0</th>\n",
       "      <td>0.133333</td>\n",
       "      <td>0.44</td>\n",
       "      <td>0.478309</td>\n",
       "      <td>0.379190</td>\n",
       "      <td>1</td>\n",
       "      <td>0.084860</td>\n",
       "      <td>15.0</td>\n",
       "      <td>2.0</td>\n",
       "      <td>1.0</td>\n",
       "      <td>5.0</td>\n",
       "      <td>3.0</td>\n",
       "      <td>9.4750</td>\n",
       "      <td>0.413771</td>\n",
       "    </tr>\n",
       "    <tr>\n",
       "      <th>1</th>\n",
       "      <td>0.714286</td>\n",
       "      <td>0.92</td>\n",
       "      <td>0.472599</td>\n",
       "      <td>0.436441</td>\n",
       "      <td>0</td>\n",
       "      <td>0.569748</td>\n",
       "      <td>14.0</td>\n",
       "      <td>18.5</td>\n",
       "      <td>48.0</td>\n",
       "      <td>11.0</td>\n",
       "      <td>15.0</td>\n",
       "      <td>14.1625</td>\n",
       "      <td>0.501463</td>\n",
       "    </tr>\n",
       "    <tr>\n",
       "      <th>2</th>\n",
       "      <td>1.000000</td>\n",
       "      <td>0.64</td>\n",
       "      <td>0.714134</td>\n",
       "      <td>0.682558</td>\n",
       "      <td>0</td>\n",
       "      <td>0.768271</td>\n",
       "      <td>20.0</td>\n",
       "      <td>50.0</td>\n",
       "      <td>11.0</td>\n",
       "      <td>18.0</td>\n",
       "      <td>26.0</td>\n",
       "      <td>22.6500</td>\n",
       "      <td>0.646963</td>\n",
       "    </tr>\n",
       "    <tr>\n",
       "      <th>3</th>\n",
       "      <td>0.867841</td>\n",
       "      <td>0.68</td>\n",
       "      <td>0.738780</td>\n",
       "      <td>0.783630</td>\n",
       "      <td>1</td>\n",
       "      <td>0.851906</td>\n",
       "      <td>23.0</td>\n",
       "      <td>41.0</td>\n",
       "      <td>20.0</td>\n",
       "      <td>42.5</td>\n",
       "      <td>33.0</td>\n",
       "      <td>28.9000</td>\n",
       "      <td>0.805147</td>\n",
       "    </tr>\n",
       "    <tr>\n",
       "      <th>4</th>\n",
       "      <td>0.771739</td>\n",
       "      <td>0.68</td>\n",
       "      <td>0.750137</td>\n",
       "      <td>0.747650</td>\n",
       "      <td>1</td>\n",
       "      <td>0.954354</td>\n",
       "      <td>29.0</td>\n",
       "      <td>26.0</td>\n",
       "      <td>20.0</td>\n",
       "      <td>22.5</td>\n",
       "      <td>44.0</td>\n",
       "      <td>33.5250</td>\n",
       "      <td>0.829352</td>\n",
       "    </tr>\n",
       "  </tbody>\n",
       "</table>\n",
       "</div>"
      ],
      "text/plain": [
       "   DT Probs  KNN Probs  LR Probs  RF Probs  True Lables  XGB Probs  LR_rank  \\\n",
       "0  0.133333       0.44  0.478309  0.379190            1   0.084860     15.0   \n",
       "1  0.714286       0.92  0.472599  0.436441            0   0.569748     14.0   \n",
       "2  1.000000       0.64  0.714134  0.682558            0   0.768271     20.0   \n",
       "3  0.867841       0.68  0.738780  0.783630            1   0.851906     23.0   \n",
       "4  0.771739       0.68  0.750137  0.747650            1   0.954354     29.0   \n",
       "\n",
       "   DT_rank  KNN_rank  RF_rank  XGB_rank  Final_rank  Stacking Probs  \n",
       "0      2.0       1.0      5.0       3.0      9.4750        0.413771  \n",
       "1     18.5      48.0     11.0      15.0     14.1625        0.501463  \n",
       "2     50.0      11.0     18.0      26.0     22.6500        0.646963  \n",
       "3     41.0      20.0     42.5      33.0     28.9000        0.805147  \n",
       "4     26.0      20.0     22.5      44.0     33.5250        0.829352  "
      ]
     },
     "execution_count": 34,
     "metadata": {},
     "output_type": "execute_result"
    }
   ],
   "source": [
    "temp = probs_df\n",
    "temp['Stacking Probs'] = stacking_df.reset_index(drop=True)['Stacking Probs']\n",
    "temp.head()"
   ]
  },
  {
   "cell_type": "code",
   "execution_count": 35,
   "metadata": {
    "collapsed": true,
    "hidden": true
   },
   "outputs": [],
   "source": [
    "temp = temp.sort_values(by='Stacking Probs', ascending=True).reset_index(drop=True)"
   ]
  },
  {
   "cell_type": "code",
   "execution_count": 36,
   "metadata": {
    "hidden": true
   },
   "outputs": [
    {
     "data": {
      "image/png": "[encoded data removed]",
      "text/plain": [
       "<matplotlib.figure.Figure at 0x1a1038c828>"
      ]
     },
     "metadata": {},
     "output_type": "display_data"
    }
   ],
   "source": [
    "fig = plt.figure(figsize=(20,8))\n",
    "ax1 = fig.add_subplot(111)\n",
    "\n",
    "sns.regplot(temp.index.values, temp['Stacking Probs'].values, fit_reg=False, scatter_kws={\"s\": 10}, marker='s', label='Stacking')\n",
    "sns.regplot(temp.index.values, temp['LR Probs'].values, fit_reg=False, scatter_kws={\"s\": 15}, marker='o', label='LR')\n",
    "plt.legend(loc='upper left');\n",
    "plt.show()"
   ]
  },
  {
   "cell_type": "markdown",
   "metadata": {
    "hidden": true
   },
   "source": [
    "As we can see here, the stacking predictions which yielded the best results is more consistent and smoother in terms of predictions. Achieving the sweet spot that balances bias and variance is a really difficult task and the combined error can only be mitagated to a certain extent."
   ]
  },
  {
   "cell_type": "markdown",
   "metadata": {
    "heading_collapsed": true
   },
   "source": [
    "# References"
   ]
  },
  {
   "cell_type": "markdown",
   "metadata": {
    "hidden": true
   },
   "source": [
    "1. https://mlwave.com/kaggle-ensembling-guide/\n",
    "2. http://manish-m.com/?p=794\n",
    "3. http://scott.fortmann-roe.com/docs/BiasVariance.html\n",
    "4. https://www.kaggle.com/general/20728"
   ]
  }
 ],
 "metadata": {
  "kernelspec": {
   "display_name": "Python 3",
   "language": "python",
   "name": "python3"
  },
  "language_info": {
   "codemirror_mode": {
    "name": "ipython",
    "version": 3
   },
   "file_extension": ".py",
   "mimetype": "text/x-python",
   "name": "python",
   "nbconvert_exporter": "python",
   "pygments_lexer": "ipython3",
   "version": "3.6.2"
  }
 },
 "nbformat": 4,
 "nbformat_minor": 2
}
